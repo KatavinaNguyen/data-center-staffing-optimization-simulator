{
 "cells": [
  {
   "cell_type": "markdown",
   "id": "5f940659",
   "metadata": {},
   "source": [
    "SLA Coverage Analysis Notebook"
   ]
  },
  {
   "cell_type": "code",
   "execution_count": null,
   "id": "73d45389",
   "metadata": {},
   "outputs": [],
   "source": [
    "import pandas as pd\n",
    "import matplotlib.pyplot as plt\n",
    "import seaborn as sns\n",
    "\n",
    "# Optional: inline plots\n",
    "%matplotlib inline\n",
    "sns.set(style=\"whitegrid\")"
   ]
  },
  {
   "cell_type": "code",
   "execution_count": null,
   "id": "fd2f07cb",
   "metadata": {},
   "outputs": [],
   "source": [
    "# Load SLA Log\n",
    "# Assuming sla_log.csv was generated from the simulation run\n",
    "df = pd.read_csv(\"results/sla_log.csv\")  # Columns: incident_id, sla_met, response_time_min\n"
   ]
  },
  {
   "cell_type": "code",
   "execution_count": null,
   "id": "2fa8d9c6",
   "metadata": {},
   "outputs": [],
   "source": [
    "# Basic Overview\n",
    "total = len(df)\n",
    "met = df[\"sla_met\"].sum()\n",
    "coverage = round((met / total) * 100, 2)\n",
    "\n",
    "print(f\"SLA Coverage: {coverage}% ({met} / {total} incidents met SLA)\")\n"
   ]
  },
  {
   "cell_type": "code",
   "execution_count": null,
   "id": "7e00a1f6",
   "metadata": {},
   "outputs": [],
   "source": [
    "# Response Time Distribution\n",
    "plt.figure(figsize=(10, 5))\n",
    "sns.histplot(df[\"response_time_min\"], bins=30, kde=True)\n",
    "plt.title(\"Distribution of Response Times\")\n",
    "plt.xlabel(\"Response Time (minutes)\")\n",
    "plt.ylabel(\"Count\")\n",
    "plt.tight_layout()\n",
    "plt.show()"
   ]
  },
  {
   "cell_type": "code",
   "execution_count": null,
   "id": "9e6b17cf",
   "metadata": {},
   "outputs": [],
   "source": [
    "# SLA Met vs Violated Counts\n",
    "plt.figure(figsize=(6, 4))\n",
    "sns.countplot(data=df, x=\"sla_met\", palette=\"pastel\")\n",
    "plt.title(\"SLA Met vs Violated\")\n",
    "plt.xticks([0, 1], [\"Violated\", \"Met\"])\n",
    "plt.ylabel(\"Number of Incidents\")\n",
    "plt.tight_layout()\n",
    "plt.show()"
   ]
  },
  {
   "cell_type": "code",
   "execution_count": null,
   "id": "536ced5a",
   "metadata": {},
   "outputs": [],
   "source": [
    "# Save Summary\n",
    "summary = {\n",
    "    \"total_incidents\": total,\n",
    "    \"sla_met\": met,\n",
    "    \"sla_violated\": total - met,\n",
    "    \"sla_coverage_percent\": coverage\n",
    "}\n",
    "pd.DataFrame([summary]).to_csv(\"results/sla_summary.csv\", index=False)\n",
    "\n",
    "print(\"SLA summary saved to results/sla_summary.csv\")"
   ]
  }
 ],
 "metadata": {
  "language_info": {
   "name": "python"
  }
 },
 "nbformat": 4,
 "nbformat_minor": 5
}
