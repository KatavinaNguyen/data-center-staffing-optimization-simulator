{
 "cells": [
  {
   "cell_type": "markdown",
   "id": "c02958da",
   "metadata": {},
   "source": [
    "Scenario Comparison Notebook"
   ]
  },
  {
   "cell_type": "code",
   "execution_count": null,
   "id": "7d7d4656",
   "metadata": {
    "vscode": {
     "languageId": "plaintext"
    }
   },
   "outputs": [],
   "source": [
    "import pandas as pd\n",
    "import matplotlib.pyplot as plt"
   ]
  },
  {
   "cell_type": "code",
   "execution_count": null,
   "id": "7d6ca62f",
   "metadata": {},
   "outputs": [],
   "source": [
    "# Load simulation results\n",
    "baseline_df = pd.read_csv('../results/baseline_run.csv')\n",
    "optimized_df = pd.read_csv('../results/midshift_optimized_run.csv')\n"
   ]
  },
  {
   "cell_type": "code",
   "execution_count": null,
   "id": "ef970b5f",
   "metadata": {},
   "outputs": [],
   "source": [
    "# Preview data\n",
    "print(\"Baseline Sample:\")\n",
    "display(baseline_df.head())\n",
    "\n",
    "print(\"Midshift Optimized Sample:\")\n",
    "display(optimized_df.head())"
   ]
  },
  {
   "cell_type": "code",
   "execution_count": null,
   "id": "76a600ac",
   "metadata": {},
   "outputs": [],
   "source": [
    "# Compare SLA compliance rates\n",
    "baseline_sla = baseline_df['SLA_met'].mean()\n",
    "optimized_sla = optimized_df['SLA_met'].mean()\n",
    "\n",
    "print(f\"Baseline SLA Compliance: {baseline_sla:.2%}\")\n",
    "print(f\"Optimized SLA Compliance: {optimized_sla:.2%}\")\n"
   ]
  },
  {
   "cell_type": "code",
   "execution_count": null,
   "id": "c52232f8",
   "metadata": {},
   "outputs": [],
   "source": [
    "# Compare average resolution time\n",
    "baseline_avg_res_time = baseline_df['resolution_time'].mean()\n",
    "optimized_avg_res_time = optimized_df['resolution_time'].mean()\n",
    "\n",
    "print(f\"Baseline Avg Resolution Time: {baseline_avg_res_time:.2f} mins\")\n",
    "print(f\"Optimized Avg Resolution Time: {optimized_avg_res_time:.2f} mins\")\n"
   ]
  },
  {
   "cell_type": "code",
   "execution_count": null,
   "id": "a145d957",
   "metadata": {},
   "outputs": [],
   "source": [
    "# Visual comparison\n",
    "labels = ['SLA Compliance', 'Avg Resolution Time']\n",
    "baseline_vals = [baseline_sla * 100, baseline_avg_res_time]\n",
    "optimized_vals = [optimized_sla * 100, optimized_avg_res_time]\n",
    "\n",
    "x = range(len(labels))\n",
    "width = 0.35\n",
    "\n",
    "fig, ax = plt.subplots(figsize=(8, 5))\n",
    "ax.bar(x, baseline_vals, width, label='Baseline', color='gray')\n",
    "ax.bar([p + width for p in x], optimized_vals, width, label='Midshift Optimized', color='green')\n",
    "\n",
    "ax.set_ylabel('Metrics')\n",
    "ax.set_title('Baseline vs Optimized Scenario Comparison')\n",
    "ax.set_xticks([p + width / 2 for p in x])\n",
    "ax.set_xticklabels(labels)\n",
    "ax.legend()\n",
    "\n",
    "plt.tight_layout()\n",
    "plt.show()"
   ]
  }
 ],
 "metadata": {
  "language_info": {
   "name": "python"
  }
 },
 "nbformat": 4,
 "nbformat_minor": 5
}
